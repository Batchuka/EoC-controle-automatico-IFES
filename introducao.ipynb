{
 "cells": [
  {
   "attachments": {},
   "cell_type": "markdown",
   "metadata": {},
   "source": [
    "# <font color='yellow' style='font-size: 30px;'>ROTEIRO PARA ANÁLISE DE CIRCUITOS</font> <hr style='border: 2px solid yellow;'>"
   ]
  },
  {
   "attachments": {},
   "cell_type": "markdown",
   "metadata": {},
   "source": [
    "## <span style=color:yellow> Obtendo equações do sistema"
   ]
  },
  {
   "attachments": {},
   "cell_type": "markdown",
   "metadata": {},
   "source": [
    "A obtenção de equações de qualquer sistema passa pelo conhecimento prévio e teórico sobre a física em questão. Teoria de controle, na realidade, se aplica em qualquer engenharia. \n",
    "\n",
    "Como temos um forte interesse em utilizar eletrônica e computação para controle, convém abortar circuitos elétricos para entendimento dessas técnicas, mas aí está um fato curioso: em nenhum momento se espera que um engenheiro de controle e automação projete um circuito elétrico estável — e muito menos um sistema dinâmico estável.\n",
    "\n",
    "### Circuito RLC em série <hr style='line: 1px solid white;'>\n",
    "\n",
    "<p style=\"text-align:center\">\n",
    "    <img src=\"./imagens/RCL_serie.png\">\n",
    "</p>\n",
    "\n",
    "Deste circuito temos as duas seguintes equações — por Kirchoff de tensões:\n",
    "\n",
    "\\begin{equation}\n",
    "\\begin{cases}\n",
    "L\\frac{di}{dt} + \\frac{R}{L} \\frac{de_o}{dt} + \\frac{1}{C} \\int i \\, dt = e_i  \\\\\n",
    "\\frac{1}{C} \\int i \\, dt = e_o\n",
    "\\end{cases}\n",
    "\\tag{1}\n",
    "\\end{equation}\n",
    "\n",
    "Se levarmos para o domínio da frequência, sabendo que:\n",
    "\n",
    "$ \\boxed {A\\frac{d}{dt} = As}$ \n",
    "\n",
    "$ \\boxed {A \\int i \\, dt = \\frac{1}{As}}$\n",
    "\n",
    "Teremos:\n",
    "\n",
    "\\begin{equation}\n",
    "\\begin{cases}\n",
    "LsI(s) + RI(s) + \\frac{1}{Cs}I(s) = E_i(s)  \\\\\n",
    "\\frac{1}{Cs}I(s)  = E_o(s)\n",
    "\\end{cases}\n",
    "\\tag{2}\n",
    "\\end{equation}\n",
    "\n",
    "Então, a função transferência se torna:\n",
    "\n",
    "\\begin{equation}\n",
    "\\frac{E_o(s)}{E_i(s)} = \\frac{1}{LCs^2 + RCs + 1}\n",
    "\\tag{3}\n",
    "\\end{equation}\n",
    "\n",
    "A função transferência já é um grande negócio. Ela indica como o circuito transfere informação entre a entrada e a saída. Aqui, já poderíamos iniciar uma simulação e verificar se faz sentido com o circuito em questão. \n",
    "\n",
    "Para obter o *'Espaço de Estados'* você precisará identificar a equação diferencial que governa o circuito. Uma maneira de fazer isso é isolar a derivada de maior grau da função transferência (*eq.3*), que é justamente $s^2$.\n",
    "\n",
    "\\begin{equation}\n",
    "E_os^2 + E_o\\frac{R}{Ls} + E_o\\frac{1}{Lc} = E_i\\frac{1}{LC} \\iff \\ddot{e}_o + \\frac{R}{L}\\dot{e}_o + \\frac{1}{LC}e_o = \\frac{1}{LC}e_i\n",
    "\\tag{4}\n",
    "\\end{equation}\n",
    "\n",
    "#### **O que é o 'Espaço de Estados'?**\n",
    "\n",
    "De saída, é uma forma de representar um sistema de ordem $n$ em um set de equações de $1º$ ordem. Só por isso, já temos toda a algebra linear disponível para nos ajudar a encontrar o estado do sistema em qualquer configuração de variáveis. Mas ainda podería dar outros motivos muito bons para tentarmos produzir essa representação matricial:\n",
    "\n",
    "- Existem muitos métodos numéricos para resolver esse tipo de problema;\n",
    "- Existem muitas técnicas de controle baseadas em Espaço de estado — justamente porque existem métodos numéricos poderosos;\n",
    "\n",
    "Então, por exemplo: Filtros Kalman, LQR, Controle Robusto, MPC, etc. São todos métodos de controle baseados em Espaço de Estados. \n",
    "\n",
    "No caso de sistemas contínuos, lineares e invariantes no tempo (LTI) — se o seu sistema não cumprir esses requisitos, nada aqui tem valor para você — podemos dizer que o sistema consiste em 4 matrizes:\n",
    "\n",
    " - A: combinação linear de $\\dot{x}(t)$ e ${x}(t)$, em outras palavras, determina como todos os estados internos estão relacionados;\n",
    " - B: determina como os inputs excitam o sistema, em outras palavras, quais estados internos são afetados pelos inputs;\n",
    " - C: representa como os estados precisam ser combinados para encontrar as saídas desejadas;\n",
    " - D: representa a operação crua ocorrendo em cada input;\n",
    "\n",
    "Multiplicadas adequadamente por vetores 4 vetores:\n",
    "\n",
    " - $\\dot{x}(t)$: vetor que representa a Dinâmica do sistema — determina como os estados vão mudar, portanto;\n",
    " - ${x}(t)$: vetor que representa o Estado do sistema — adequamente conhecido como \"vetor de estados\";\n",
    " - ${u}(t)$:\n",
    " - ${y}(t)$: vetor de saídas do sistema — é não só aquilo que você quer saber, mas manter controlado;"
   ]
  },
  {
   "attachments": {},
   "cell_type": "markdown",
   "metadata": {},
   "source": [
    "## <span style=color:yellow> Biblioteca 'Controls' para simulação"
   ]
  },
  {
   "attachments": {},
   "cell_type": "markdown",
   "metadata": {},
   "source": [
    "### <span style=color:yellow> import"
   ]
  },
  {
   "cell_type": "code",
   "execution_count": 4,
   "metadata": {},
   "outputs": [
    {
     "name": "stdout",
     "output_type": "stream",
     "text": [
      "Versão do pandas -> 1.5.0\n",
      "Versão do numpy -> 1.23.4\n",
      "Versão do scipy -> 1.9.2\n",
      "Versão do control -> 0.9.3.post2\n"
     ]
    }
   ],
   "source": [
    "import pandas as pd\n",
    "import numpy as np\n",
    "import scipy as sp\n",
    "import matplotlib as plt\n",
    "import control as ct\n",
    "\n",
    "print('Versão do pandas -> %s' % pd.__version__)\n",
    "print('Versão do numpy -> %s' % np.__version__)\n",
    "print('Versão do scipy -> %s' % sp.__version__)\n",
    "# print('Versão do matplotlib -> %s' % matplotlib.__version__)\n",
    "print('Versão do control -> %s' % ct.__version__)"
   ]
  },
  {
   "attachments": {},
   "cell_type": "markdown",
   "metadata": {},
   "source": [
    "### <span style=color:yellow> Espaço de estados"
   ]
  },
  {
   "cell_type": "code",
   "execution_count": 6,
   "metadata": {},
   "outputs": [
    {
     "data": {
      "text/latex": [
       "$$\n",
       "\\left(\\begin{array}{rllrll|rllrll}\n",
       "1\\phantom{.}&\\hspace{-1em}&\\hspace{-1em}\\phantom{\\cdot}&2\\phantom{.}&\\hspace{-1em}&\\hspace{-1em}\\phantom{\\cdot}&1\\phantom{.}&\\hspace{-1em}&\\hspace{-1em}\\phantom{\\cdot}&2\\phantom{.}&\\hspace{-1em}&\\hspace{-1em}\\phantom{\\cdot}\\\\\n",
       "2\\phantom{.}&\\hspace{-1em}&\\hspace{-1em}\\phantom{\\cdot}&1\\phantom{.}&\\hspace{-1em}&\\hspace{-1em}\\phantom{\\cdot}&2\\phantom{.}&\\hspace{-1em}&\\hspace{-1em}\\phantom{\\cdot}&1\\phantom{.}&\\hspace{-1em}&\\hspace{-1em}\\phantom{\\cdot}\\\\\n",
       "\\hline\n",
       "1\\phantom{.}&\\hspace{-1em}&\\hspace{-1em}\\phantom{\\cdot}&2\\phantom{.}&\\hspace{-1em}&\\hspace{-1em}\\phantom{\\cdot}&1\\phantom{.}&\\hspace{-1em}&\\hspace{-1em}\\phantom{\\cdot}&2\\phantom{.}&\\hspace{-1em}&\\hspace{-1em}\\phantom{\\cdot}\\\\\n",
       "2\\phantom{.}&\\hspace{-1em}&\\hspace{-1em}\\phantom{\\cdot}&1\\phantom{.}&\\hspace{-1em}&\\hspace{-1em}\\phantom{\\cdot}&2\\phantom{.}&\\hspace{-1em}&\\hspace{-1em}\\phantom{\\cdot}&1\\phantom{.}&\\hspace{-1em}&\\hspace{-1em}\\phantom{\\cdot}\\\\\n",
       "\\end{array}\\right)\n",
       "$$"
      ],
      "text/plain": [
       "<LinearIOSystem:sys[3]:['u[0]', 'u[1]']->['y[0]', 'y[1]']>"
      ]
     },
     "execution_count": 6,
     "metadata": {},
     "output_type": "execute_result"
    }
   ],
   "source": [
    "A = [[1, 2], [2, 1]]\n",
    "B = [[1, 2], [2, 1]]\n",
    "C = [[1, 2], [2, 1]]\n",
    "D = [[1, 2], [2, 1]]\n",
    "\n",
    "sys = ct.ss(A, B, C, D,)\n",
    "sys"
   ]
  },
  {
   "attachments": {},
   "cell_type": "markdown",
   "metadata": {},
   "source": [
    "# <font color='yellow' style='font-size: 30px;'>ANÁLISE DE RESPOSTA TRANSITÓRIA e REGIME ESTACIONÁRIO</font> <hr style='border: 2px solid yellow;'>"
   ]
  },
  {
   "attachments": {},
   "cell_type": "markdown",
   "metadata": {},
   "source": [
    "### O que diabos é essa tal de análise?"
   ]
  },
  {
   "attachments": {},
   "cell_type": "markdown",
   "metadata": {},
   "source": [
    "A análise consiste em pegar um sistema de controle e perturba-lo com um sinal conhecido, o que é chamado de \"teste\". Existem vários sinais de teste, como degrau, rampa, parábola de aceleração e impulso. A ideia é provocar um sinal desses na entrada do sistema e ver como ele se comporta. Isso é interessante porque esses sinais são conhecidos, de forma que a saída do sistema carregue alguma informação intrínseca do mesmo, a chamada \"resposta característica\" do sistema.\n",
    "\n",
    "É interessante testar seu sistema nas condições em que ele for projetado para operar, por exemplo:\n",
    "\n",
    "- Se as entradas de um sistema de controle são funções de tempo que variam gradualmente, então a rampa em função do tempo pode ser um bom sinal de teste;\n",
    "- Se um sistema estiver sujeito a variações bruscas de entrada, a função degrau poderá ser um bom sinal de teste;\n",
    "- Se o sistema estiver sujeito a entradas de impacto, uma função impulso poderá ser a melhor opção.\n",
    "\n",
    "#### A resposta:\n",
    "\n",
    "A resposta do sistema fica dividida entre uma ***parte transitória*** — porque se é um sistema de controle, o que se deve observar é um disturbio e logo após um retorno para um estado \"estável\" — e outra ***estacionária***. Dito isso, vamos ter as seguintes definições em mente:\n",
    "\n",
    "1. Um sistema de controle está em equilíbrio se, na ausência de qualquer distúrbio ou sinal de entrada, a saída permanece no mesmo estado;\n",
    "\n",
    "2. Um sistema de controle linear e invariante no tempo é estável se a saída sempre retorna ao estado de equilíbrio quando o sistema é submetido a uma condição inicial;\n",
    "\n",
    "3. Um sistema de controle linear e invariante no tempo é criticamente estável se as oscilações do sinal de saída se repetirem de maneira contínua;\n",
    "\n",
    "4. É instável se a saída divergir sem limites a partir do estado de equilíbrio quando o sistema for sujeito a uma condição inicial.\n",
    "\n",
    "#### Na prática a teoria é outra:\n",
    "\n",
    "Na verdade, os sistemas contém elementos armazenadores de energia, o que implica que eles, os sistemas, não irão responder instantaneamente os sinais de entrada. Além disso, apresentam transitórios periódicos. A constante de tempo é algo que irá influenciar totalmente essa resposta do sistema. Quanto menor a constante de tempo, mais rápida será a resposta — a constante é calculada, sempre, a partir dos elementos armazenadores de energia.\n",
    "\n",
    "Por exemplo, para um circuito RLC em série, essa constante seria dada por $$\\tau = \\frac{L}{R}$$\n",
    "\n",
    "**Td (tempo de atraso)**: é o tempo que a resposta leva para sair do repouso até começar a se mover.\n",
    "\n",
    "**Tr (tempo de subida)**: é o tempo que a resposta leva para ir do valor inicial até o valor final pela primeira vez.\n",
    "\n",
    "**Tp (tempo de pico)**: é o tempo que a resposta leva para atingir o valor máximo.\n",
    "\n",
    "**Mp (máximo sobressinal)**: é a porcentagem em que a resposta excede o valor final, em relação a esse valor final.\n",
    "\n",
    "**Ts (tempo de acomodação)**: é o tempo que a resposta leva para atingir um estado estacionário, ou seja, para ficar próxima do valor final e permanecer nessa região sem oscilar excessivamente. \n",
    "    \n",
    "    Geralmente é definido como o tempo que leva para a resposta estar dentro de uma faixa em torno do valor final, como por exemplo, 2% ou 5%.\n"
   ]
  },
  {
   "attachments": {},
   "cell_type": "markdown",
   "metadata": {},
   "source": [
    "## <span style=color:yellow> Análise para sistemas de primeira Ordem <hr style='line: 1px solid yellow;'>"
   ]
  },
  {
   "attachments": {},
   "cell_type": "markdown",
   "metadata": {},
   "source": [
    "<p style=\"text-align:center\">\n",
    "    <img src=\"./imagens/diagrama_bloco_1ordem.png\">\n",
    "</p>\n",
    "\n",
    "A função transferência deste diagrama é óbviamente dada por: \n",
    "\n",
    "$$\\frac{C(s)}{R(s)} = \\frac{1}{Ts+1} \\tag{1}$$\n",
    "\n",
    "Nesse sentido, para saber a resposta do circuito $C(s)$, precisamos fazer com que $R(s)$ seja uma função degrau. Essa função, no domínio da frequência é dada por $\\frac{1}{s}$, logo, temos:\n",
    "\n",
    "$$C(s) = \\frac{1}{Ts+1} \\tag{1}$$\n",
    "\n",
    "\n",
    "\\begin{equation}\n",
    "\\tag{1}\n",
    "\\end{equation}\n",
    "\n"
   ]
  },
  {
   "attachments": {},
   "cell_type": "markdown",
   "metadata": {},
   "source": [
    "Para obter as frações parciais dessa expressão, podemos usar a técnica de frações parciais. Primeiro, escrevemos a expressão como uma soma de frações parciais com denominadores lineares distintos.\n",
    "\n",
    "\\begin{equation}\n",
    "\\frac{1}{Ts+1} * \\frac{1}{s} = \\frac{A}{Ts+1} + \\frac{B}{s}\n",
    "\\end{equation}\n",
    "\n",
    "Agora, multiplicando ambos os lados por $(Ts+1)s$, obtemos:\n",
    "\n",
    "\\begin{equation}\n",
    "1 = As + B(Ts+1)\n",
    "\\end{equation}\n",
    "\n",
    "Para encontrar $A$, podemos fazer $s=0$:\n",
    "\n",
    "\\begin{equation}\n",
    "1 = B(Ts+1) \\Rightarrow B = \\frac{1}{Ts+1} \\Big|_{s=0} = \\frac{1}{1} = 1\n",
    "\\end{equation}\n",
    "\n",
    "Para encontrar $B$, podemos fazer $s=-1/T$:\n",
    "\n",
    "\\begin{equation}\n",
    "1 = A\\Big(\\frac{-1}{T}\\Big) \\Rightarrow A = \\frac{-1}{Ts+1} \\Big|_{s=-1/T} = \\frac{1}{T}\n",
    "\\end{equation}\n",
    "\n",
    "Portanto, a expressão pode ser escrita como:\n",
    "\n",
    "\\begin{equation}\n",
    "\\frac{1}{Ts+1} * \\frac{1}{s} = \\frac{1}{T} \\cdot \\frac{1}{Ts+1} - \\frac{1}{s}\n",
    "\\end{equation}"
   ]
  },
  {
   "attachments": {},
   "cell_type": "markdown",
   "metadata": {},
   "source": [
    "## <span style=color:yellow> Critério de Routh <hr style='line: 1px solid yellow;'>"
   ]
  },
  {
   "attachments": {},
   "cell_type": "markdown",
   "metadata": {},
   "source": [
    "A pergunta é : Sob quais condições um sistema se tornará instável? Se for instável, como deveríamos estabilizá-lo? \n",
    "\n",
    "> Se e somente se todos os polos de malha fechada estiverem situados no semiplano esquerdo do plano s. \n",
    "\n",
    "O critério nos diz se existem ou não raízes instáveis em uma equação polinomial, sem que seja necessário resolvê-la. Este critério de estabilidade aplica-se somente a polinômios com um número finito de termos."
   ]
  },
  {
   "cell_type": "code",
   "execution_count": 2,
   "metadata": {},
   "outputs": [
    {
     "name": "stderr",
     "output_type": "stream",
     "text": [
      "c:\\Users\\Mathe\\AppData\\Local\\Programs\\Python\\Python310\\lib\\site-packages\\matplotlib\\cbook\\__init__.py:1369: ComplexWarning: Casting complex values to real discards the imaginary part\n",
      "  return np.asarray(x, float)\n"
     ]
    },
    {
     "data": {
      "image/png": "[encoded data removed]",
      "text/plain": [
       "<Figure size 640x480 with 1 Axes>"
      ]
     },
     "metadata": {},
     "output_type": "display_data"
    }
   ],
   "source": [
    "import numpy as np\n",
    "import matplotlib.pyplot as plt\n",
    "import control\n",
    "\n",
    "# Definir as funções de transferência G1(s), G2(s), H(s) e Gc(s)\n",
    "G1 = control.TransferFunction([1], [1, 2, 1])\n",
    "G2 = control.TransferFunction([1], [1, 3])\n",
    "H = control.TransferFunction([1], [1])\n",
    "Gc = control.TransferFunction([1], [1, 1])\n",
    "\n",
    "# Definir a função de transferência em malha fechada G(s)\n",
    "G = Gc * G1 * H / (1 + Gc * G1 * H)\n",
    "\n",
    "# Definir o vetor de tempo de simulação\n",
    "T = np.linspace(0, 10, 1000)\n",
    "\n",
    "# Calcular a resposta ao degrau do sistema para um degrau unitário de referência\n",
    "t, y = control.step_response(G, T)\n",
    "\n",
    "# Calcular o erro estacionário para cada valor de referência R(s)\n",
    "e_ss = abs(1 - y[-1])\n",
    "\n",
    "# Calcular o tipo de sistema\n",
    "system_type = control.poles(G)[0]\n",
    "\n",
    "# Plotar o erro estacionário em função do tipo de sistema\n",
    "plt.plot(system_type, e_ss, 'bo')\n",
    "plt.xlabel('Tipo de sistema')\n",
    "plt.ylabel('Erro estacionário')\n",
    "plt.show()"
   ]
  }
 ],
 "metadata": {
  "kernelspec": {
   "display_name": "Python 3",
   "language": "python",
   "name": "python3"
  },
  "language_info": {
   "codemirror_mode": {
    "name": "ipython",
    "version": 3
   },
   "file_extension": ".py",
   "mimetype": "text/x-python",
   "name": "python",
   "nbconvert_exporter": "python",
   "pygments_lexer": "ipython3",
   "version": "3.10.7"
  },
  "orig_nbformat": 4,
  "vscode": {
   "interpreter": {
    "hash": "4f23259cc4a989149ceb318427fe09b9530d16c787809bc42dd4da82aeda726e"
   }
  }
 },
 "nbformat": 4,
 "nbformat_minor": 2
}
