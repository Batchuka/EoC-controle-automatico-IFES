{
 "cells": [
  {
   "cell_type": "code",
   "execution_count": 3,
   "metadata": {
    "colab": {},
    "colab_type": "code",
    "id": "gSHqMRhFzcAb"
   },
   "outputs": [],
   "source": [
    "import pandas\n",
    "import numpy\n",
    "import scipy\n",
    "import matplotlib\n",
    "import control\n",
    "# import slycot   # optional"
   ]
  },
  {
   "cell_type": "code",
   "execution_count": 4,
   "metadata": {
    "colab": {},
    "colab_type": "code",
    "id": "GQ5bxfxXzvKp"
   },
   "outputs": [
    {
     "name": "stdout",
     "output_type": "stream",
     "text": [
      "Versão do pandas -> 1.5.0\n",
      "Versão do numpy -> 1.23.4\n",
      "Versão do scipy -> 1.9.2\n",
      "Versão do matplotlib -> 3.6.1\n",
      "Versão do control -> 0.9.3.post2\n"
     ]
    }
   ],
   "source": [
    "print('Versão do pandas -> %s' % pandas.__version__)\n",
    "print('Versão do numpy -> %s' % numpy.__version__)\n",
    "print('Versão do scipy -> %s' % scipy.__version__)\n",
    "print('Versão do matplotlib -> %s' % matplotlib.__version__)\n",
    "print('Versão do control -> %s' % control.__version__)"
   ]
  },
  {
   "cell_type": "markdown",
   "metadata": {
    "colab_type": "text",
    "id": "Q1k5ex0Xi-3y"
   },
   "source": [
    "### Problema com dependência do *statsmodels*"
   ]
  },
  {
   "cell_type": "code",
   "execution_count": 3,
   "metadata": {
    "colab": {},
    "colab_type": "code",
    "id": "5cbhXxAkjGQB"
   },
   "outputs": [],
   "source": [
    "import statsmodels.api"
   ]
  },
  {
   "cell_type": "code",
   "execution_count": 4,
   "metadata": {
    "colab": {},
    "colab_type": "code",
    "id": "DHHDAfHCjLCB"
   },
   "outputs": [
    {
     "ename": "ImportError",
     "evalue": "cannot import name 'factorial' from 'scipy.misc' (c:\\Users\\Mathe\\AppData\\Local\\Programs\\Python\\Python310\\lib\\site-packages\\scipy\\misc\\__init__.py)",
     "output_type": "error",
     "traceback": [
      "\u001b[1;31m---------------------------------------------------------------------------\u001b[0m",
      "\u001b[1;31mImportError\u001b[0m                               Traceback (most recent call last)",
      "Cell \u001b[1;32mIn [4], line 1\u001b[0m\n\u001b[1;32m----> 1\u001b[0m \u001b[39mfrom\u001b[39;00m \u001b[39mscipy\u001b[39;00m\u001b[39m.\u001b[39;00m\u001b[39mmisc\u001b[39;00m \u001b[39mimport\u001b[39;00m factorial\n",
      "\u001b[1;31mImportError\u001b[0m: cannot import name 'factorial' from 'scipy.misc' (c:\\Users\\Mathe\\AppData\\Local\\Programs\\Python\\Python310\\lib\\site-packages\\scipy\\misc\\__init__.py)"
     ]
    }
   ],
   "source": [
    "from scipy.misc import factorial"
   ]
  },
  {
   "cell_type": "markdown",
   "metadata": {
    "colab_type": "text",
    "id": "TDW0YxbGjVWB"
   },
   "source": [
    "### Solução"
   ]
  },
  {
   "cell_type": "code",
   "execution_count": 5,
   "metadata": {
    "colab": {},
    "colab_type": "code",
    "id": "IYakhWIx0Erv"
   },
   "outputs": [
    {
     "name": "stdout",
     "output_type": "stream",
     "text": [
      "Collecting scipy==1.2\n",
      "  Using cached scipy-1.2.0.tar.gz (23.3 MB)\n",
      "  Preparing metadata (setup.py): started\n",
      "  Preparing metadata (setup.py): finished with status 'done'\n",
      "Using legacy 'setup.py install' for scipy, since package 'wheel' is not installed.\n",
      "Installing collected packages: scipy\n",
      "  Attempting uninstall: scipy\n",
      "    Found existing installation: scipy 1.9.2\n",
      "    Uninstalling scipy-1.9.2:\n",
      "      Successfully uninstalled scipy-1.9.2\n",
      "  Running setup.py install for scipy: started\n",
      "  Running setup.py install for scipy: finished with status 'error'\n",
      "  Rolling back uninstall of scipy\n",
      "  Moving to c:\\users\\mathe\\appdata\\local\\programs\\python\\python310\\lib\\site-packages\\scipy-1.9.2-cp310-cp310-win_amd64.whl\n",
      "   from C:\\Users\\Mathe\\AppData\\Local\\Temp\\pip-uninstall-tq7qopjc\\scipy-1.9.2-cp310-cp310-win_amd64.whl\n",
      "  Moving to c:\\users\\mathe\\appdata\\local\\programs\\python\\python310\\lib\\site-packages\\scipy-1.9.2.dist-info\\\n",
      "   from C:\\Users\\Mathe\\AppData\\Local\\Programs\\Python\\Python310\\Lib\\site-packages\\~cipy-1.9.2.dist-info\n",
      "  Moving to c:\\users\\mathe\\appdata\\local\\programs\\python\\python310\\lib\\site-packages\\scipy.libs\\\n",
      "   from C:\\Users\\Mathe\\AppData\\Local\\Programs\\Python\\Python310\\Lib\\site-packages\\~cipy.libs\n",
      "  Moving to c:\\users\\mathe\\appdata\\local\\programs\\python\\python310\\lib\\site-packages\\scipy\\\n",
      "   from C:\\Users\\Mathe\\AppData\\Local\\Programs\\Python\\Python310\\Lib\\site-packages\\~cipy\n"
     ]
    },
    {
     "name": "stderr",
     "output_type": "stream",
     "text": [
      "  error: subprocess-exited-with-error\n",
      "  \n",
      "  × Running setup.py install for scipy did not run successfully.\n",
      "  │ exit code: 1\n",
      "  ╰─> [137 lines of output]\n",
      "      C:\\Users\\Mathe\\AppData\\Local\\Temp\\pip-install-cjlm2gbc\\scipy_bc4be8f61f144f1eb8b3b86dca56cfb2\\setup.py:114: DeprecationWarning: the imp module is deprecated in favour of importlib and slated for removal in Python 3.12; see the module's documentation for alternative uses\n",
      "        import imp\n",
      "      \n",
      "      Note: if you need reliable uninstall behavior, then install\n",
      "      with pip instead of using `setup.py install`:\n",
      "      \n",
      "        - `pip install .`       (from a git repo or downloaded source\n",
      "                                 release)\n",
      "        - `pip install scipy`   (last SciPy release on PyPI)\n",
      "      \n",
      "      \n",
      "      C:\\Users\\Mathe\\AppData\\Local\\Temp\\pip-install-cjlm2gbc\\scipy_bc4be8f61f144f1eb8b3b86dca56cfb2\\setup.py:468: DeprecationWarning:\n",
      "      \n",
      "        `numpy.distutils` is deprecated since NumPy 1.23.0, as a result\n",
      "        of the deprecation of `distutils` itself. It will be removed for\n",
      "        Python >= 3.12. For older Python versions it will remain present.\n",
      "        It is recommended to use `setuptools < 60.0` for those Python versions.\n",
      "        For more details, see:\n",
      "          https://numpy.org/devdocs/reference/distutils_status_migration.html\n",
      "      \n",
      "      \n",
      "        from numpy.distutils.core import setup\n",
      "      Running from scipy source directory.\n",
      "      INFO: lapack_opt_info:\n",
      "      INFO: lapack_armpl_info:\n",
      "      INFO: No module named 'numpy.distutils._msvccompiler' in numpy.distutils; trying from distutils\n",
      "      INFO: customize MSVCCompiler\n",
      "      INFO:   libraries armpl_lp64_mp not found in ['C:\\\\Users\\\\Mathe\\\\AppData\\\\Local\\\\Programs\\\\Python\\\\Python310\\\\lib', 'C:\\\\', 'C:\\\\Users\\\\Mathe\\\\AppData\\\\Local\\\\Programs\\\\Python\\\\Python310\\\\libs']\n",
      "      INFO:   NOT AVAILABLE\n",
      "      INFO:\n",
      "      INFO: lapack_mkl_info:\n",
      "      INFO:   libraries mkl_rt not found in ['C:\\\\Users\\\\Mathe\\\\AppData\\\\Local\\\\Programs\\\\Python\\\\Python310\\\\lib', 'C:\\\\', 'C:\\\\Users\\\\Mathe\\\\AppData\\\\Local\\\\Programs\\\\Python\\\\Python310\\\\libs']\n",
      "      INFO:   NOT AVAILABLE\n",
      "      INFO:\n",
      "      INFO: openblas_lapack_info:\n",
      "      INFO:   libraries openblas not found in ['C:\\\\Users\\\\Mathe\\\\AppData\\\\Local\\\\Programs\\\\Python\\\\Python310\\\\lib', 'C:\\\\', 'C:\\\\Users\\\\Mathe\\\\AppData\\\\Local\\\\Programs\\\\Python\\\\Python310\\\\libs']\n",
      "      INFO: get_default_fcompiler: matching types: '['gnu', 'intelv', 'absoft', 'compaqv', 'intelev', 'gnu95', 'g95', 'intelvem', 'intelem', 'flang']'\n",
      "      INFO: customize GnuFCompiler\n",
      "      WARN: Could not locate executable g77\n",
      "      WARN: Could not locate executable f77\n",
      "      INFO: customize IntelVisualFCompiler\n",
      "      WARN: Could not locate executable ifort\n",
      "      WARN: Could not locate executable ifl\n",
      "      INFO: customize AbsoftFCompiler\n",
      "      WARN: Could not locate executable f90\n",
      "      INFO: customize CompaqVisualFCompiler\n",
      "      WARN: Could not locate executable DF\n",
      "      INFO: customize IntelItaniumVisualFCompiler\n",
      "      WARN: Could not locate executable efl\n",
      "      INFO: customize Gnu95FCompiler\n",
      "      WARN: Could not locate executable gfortran\n",
      "      WARN: Could not locate executable f95\n",
      "      INFO: customize G95FCompiler\n",
      "      WARN: Could not locate executable g95\n",
      "      INFO: customize IntelEM64VisualFCompiler\n",
      "      INFO: customize IntelEM64TFCompiler\n",
      "      WARN: Could not locate executable efort\n",
      "      WARN: Could not locate executable efc\n",
      "      INFO: customize PGroupFlangCompiler\n",
      "      WARN: Could not locate executable flang\n",
      "      WARN: don't know how to compile Fortran code on platform 'nt'\n",
      "      INFO:   NOT AVAILABLE\n",
      "      INFO:\n",
      "      INFO: openblas_clapack_info:\n",
      "      INFO:   libraries openblas,lapack not found in ['C:\\\\Users\\\\Mathe\\\\AppData\\\\Local\\\\Programs\\\\Python\\\\Python310\\\\lib', 'C:\\\\', 'C:\\\\Users\\\\Mathe\\\\AppData\\\\Local\\\\Programs\\\\Python\\\\Python310\\\\libs']\n",
      "      INFO:   NOT AVAILABLE\n",
      "      INFO:\n",
      "      INFO: flame_info:\n",
      "      INFO:   libraries flame not found in ['C:\\\\Users\\\\Mathe\\\\AppData\\\\Local\\\\Programs\\\\Python\\\\Python310\\\\lib', 'C:\\\\', 'C:\\\\Users\\\\Mathe\\\\AppData\\\\Local\\\\Programs\\\\Python\\\\Python310\\\\libs']\n",
      "      INFO:   NOT AVAILABLE\n",
      "      INFO:\n",
      "      INFO: accelerate_info:\n",
      "      INFO:   NOT AVAILABLE\n",
      "      INFO:\n",
      "      INFO: atlas_3_10_threads_info:\n",
      "      INFO: Setting PTATLAS=ATLAS\n",
      "      INFO:   libraries tatlas,tatlas not found in C:\\Users\\Mathe\\AppData\\Local\\Programs\\Python\\Python310\\lib\n",
      "      INFO:   libraries tatlas,tatlas not found in C:\\\n",
      "      INFO:   libraries tatlas,tatlas not found in C:\\Users\\Mathe\\AppData\\Local\\Programs\\Python\\Python310\\libs\n",
      "      INFO: <class 'numpy.distutils.system_info.atlas_3_10_threads_info'>\n",
      "      INFO:   NOT AVAILABLE\n",
      "      INFO:\n",
      "      INFO: atlas_3_10_info:\n",
      "      INFO:   libraries satlas,satlas not found in C:\\Users\\Mathe\\AppData\\Local\\Programs\\Python\\Python310\\lib\n",
      "      INFO:   libraries satlas,satlas not found in C:\\\n",
      "      INFO:   libraries satlas,satlas not found in C:\\Users\\Mathe\\AppData\\Local\\Programs\\Python\\Python310\\libs\n",
      "      INFO: <class 'numpy.distutils.system_info.atlas_3_10_info'>\n",
      "      INFO:   NOT AVAILABLE\n",
      "      INFO:\n",
      "      INFO: atlas_threads_info:\n",
      "      INFO: Setting PTATLAS=ATLAS\n",
      "      INFO:   libraries ptf77blas,ptcblas,atlas not found in C:\\Users\\Mathe\\AppData\\Local\\Programs\\Python\\Python310\\lib\n",
      "      INFO:   libraries ptf77blas,ptcblas,atlas not found in C:\\\n",
      "      INFO:   libraries ptf77blas,ptcblas,atlas not found in C:\\Users\\Mathe\\AppData\\Local\\Programs\\Python\\Python310\\libs\n",
      "      INFO: <class 'numpy.distutils.system_info.atlas_threads_info'>\n",
      "      INFO:   NOT AVAILABLE\n",
      "      INFO:\n",
      "      INFO: atlas_info:\n",
      "      INFO:   libraries f77blas,cblas,atlas not found in C:\\Users\\Mathe\\AppData\\Local\\Programs\\Python\\Python310\\lib\n",
      "      INFO:   libraries f77blas,cblas,atlas not found in C:\\\n",
      "      INFO:   libraries f77blas,cblas,atlas not found in C:\\Users\\Mathe\\AppData\\Local\\Programs\\Python\\Python310\\libs\n",
      "      INFO: <class 'numpy.distutils.system_info.atlas_info'>\n",
      "      INFO:   NOT AVAILABLE\n",
      "      INFO:\n",
      "      INFO: lapack_info:\n",
      "      INFO:   libraries lapack not found in ['C:\\\\Users\\\\Mathe\\\\AppData\\\\Local\\\\Programs\\\\Python\\\\Python310\\\\lib', 'C:\\\\', 'C:\\\\Users\\\\Mathe\\\\AppData\\\\Local\\\\Programs\\\\Python\\\\Python310\\\\libs']\n",
      "      INFO:   NOT AVAILABLE\n",
      "      INFO:\n",
      "      C:\\Users\\Mathe\\AppData\\Local\\Programs\\Python\\Python310\\lib\\site-packages\\numpy\\distutils\\system_info.py:1902: UserWarning:\n",
      "          Lapack (http://www.netlib.org/lapack/) libraries not found.\n",
      "          Directories to search for the libraries can be specified in the\n",
      "          numpy/distutils/site.cfg file (section [lapack]) or by setting\n",
      "          the LAPACK environment variable.\n",
      "        return getattr(self, '_calc_info_{}'.format(name))()\n",
      "      INFO: lapack_src_info:\n",
      "      INFO:   NOT AVAILABLE\n",
      "      INFO:\n",
      "      C:\\Users\\Mathe\\AppData\\Local\\Programs\\Python\\Python310\\lib\\site-packages\\numpy\\distutils\\system_info.py:1902: UserWarning:\n",
      "          Lapack (http://www.netlib.org/lapack/) sources not found.\n",
      "          Directories to search for the sources can be specified in the\n",
      "          numpy/distutils/site.cfg file (section [lapack_src]) or by setting\n",
      "          the LAPACK_SRC environment variable.\n",
      "        return getattr(self, '_calc_info_{}'.format(name))()\n",
      "      INFO:   NOT AVAILABLE\n",
      "      INFO:\n",
      "      Traceback (most recent call last):\n",
      "        File \"<string>\", line 2, in <module>\n",
      "        File \"<pip-setuptools-caller>\", line 34, in <module>\n",
      "        File \"C:\\Users\\Mathe\\AppData\\Local\\Temp\\pip-install-cjlm2gbc\\scipy_bc4be8f61f144f1eb8b3b86dca56cfb2\\setup.py\", line 492, in <module>\n",
      "          setup_package()\n",
      "        File \"C:\\Users\\Mathe\\AppData\\Local\\Temp\\pip-install-cjlm2gbc\\scipy_bc4be8f61f144f1eb8b3b86dca56cfb2\\setup.py\", line 488, in setup_package\n",
      "          setup(**metadata)\n",
      "        File \"C:\\Users\\Mathe\\AppData\\Local\\Programs\\Python\\Python310\\lib\\site-packages\\numpy\\distutils\\core.py\", line 135, in setup\n",
      "          config = configuration()\n",
      "        File \"C:\\Users\\Mathe\\AppData\\Local\\Temp\\pip-install-cjlm2gbc\\scipy_bc4be8f61f144f1eb8b3b86dca56cfb2\\setup.py\", line 395, in configuration\n",
      "          raise NotFoundError(msg)\n",
      "      numpy.distutils.system_info.NotFoundError: No lapack/blas resources found.\n",
      "      [end of output]\n",
      "  \n",
      "  note: This error originates from a subprocess, and is likely not a problem with pip.\n",
      "error: legacy-install-failure\n",
      "\n",
      "× Encountered error while trying to install package.\n",
      "╰─> scipy\n",
      "\n",
      "note: This is an issue with the package mentioned above, not pip.\n",
      "hint: See above for output from the failure.\n",
      "\n",
      "[notice] A new release of pip available: 22.2.2 -> 23.0\n",
      "[notice] To update, run: python.exe -m pip install --upgrade pip\n"
     ]
    }
   ],
   "source": [
    "!pip install scipy==1.2 --upgrade"
   ]
  },
  {
   "cell_type": "code",
   "execution_count": null,
   "metadata": {
    "colab": {},
    "colab_type": "code",
    "id": "IfINO1qSjNCR"
   },
   "outputs": [],
   "source": []
  }
 ],
 "metadata": {
  "colab": {
   "name": "Verifica_versão.ipynb",
   "provenance": [],
   "version": "0.3.2"
  },
  "kernelspec": {
   "display_name": "Python 3",
   "language": "python",
   "name": "python3"
  },
  "language_info": {
   "codemirror_mode": {
    "name": "ipython",
    "version": 3
   },
   "file_extension": ".py",
   "mimetype": "text/x-python",
   "name": "python",
   "nbconvert_exporter": "python",
   "pygments_lexer": "ipython3",
   "version": "3.10.7"
  },
  "vscode": {
   "interpreter": {
    "hash": "4f23259cc4a989149ceb318427fe09b9530d16c787809bc42dd4da82aeda726e"
   }
  }
 },
 "nbformat": 4,
 "nbformat_minor": 1
}
