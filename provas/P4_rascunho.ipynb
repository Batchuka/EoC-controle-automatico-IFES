{
 "cells": [
  {
   "cell_type": "code",
   "execution_count": 13,
   "metadata": {},
   "outputs": [
    {
     "data": {
      "text/latex": [
       "$$\n",
       "\\left(\\begin{array}{rllrll|rll}\n",
       "-3\\phantom{.}&\\hspace{-1em}&\\hspace{-1em}\\phantom{\\cdot}&-20.&\\hspace{-1em}2&\\hspace{-1em}\\phantom{\\cdot}&1\\phantom{.}&\\hspace{-1em}&\\hspace{-1em}\\phantom{\\cdot}\\\\\n",
       "1\\phantom{.}&\\hspace{-1em}&\\hspace{-1em}\\phantom{\\cdot}&0\\phantom{.}&\\hspace{-1em}&\\hspace{-1em}\\phantom{\\cdot}&0\\phantom{.}&\\hspace{-1em}&\\hspace{-1em}\\phantom{\\cdot}\\\\\n",
       "\\hline\n",
       "0\\phantom{.}&\\hspace{-1em}&\\hspace{-1em}\\phantom{\\cdot}&28.&\\hspace{-1em}1&\\hspace{-1em}\\phantom{\\cdot}&0\\phantom{.}&\\hspace{-1em}&\\hspace{-1em}\\phantom{\\cdot}\\\\\n",
       "\\end{array}\\right)\n",
       "$$"
      ],
      "text/plain": [
       "StateSpace(array([[ -3.  , -20.22],\n",
       "       [  1.  ,   0.  ]]), array([[1.],\n",
       "       [0.]]), array([[ 0.  , 28.08]]), array([[0.]]))"
      ]
     },
     "execution_count": 13,
     "metadata": {},
     "output_type": "execute_result"
    }
   ],
   "source": [
    "# controlavel_A, controlavel_B, observavel_A, observavel_C, autovalores_controlavel, autovalores_observavel = calcular_canonicas_autovalores(num=[28.08], den=[1, 3, 20.22])\n",
    "\n",
    "ss = obter_espaco_estados(num=[28.08], den=[1, 3, 20.22])\n",
    "ss\n",
    "# print(type(ss))\n",
    "# print(ss)\n"
   ]
  },
  {
   "cell_type": "code",
   "execution_count": 25,
   "metadata": {},
   "outputs": [
    {
     "name": "stdout",
     "output_type": "stream",
     "text": [
      "[-1.5+4.23910368j -1.5-4.23910368j]\n",
      "[[ 0.97615298+0.j          0.97615298-0.j        ]\n",
      " [-0.07241491-0.20464954j -0.07241491+0.20464954j]]\n",
      "2\n"
     ]
    }
   ],
   "source": [
    "autovalores, autovetores, posto = calcular_propriedades(ss)\n",
    "print(autovalores)\n",
    "print(autovetores)\n",
    "print(posto)\n",
    "\n"
   ]
  },
  {
   "attachments": {},
   "cell_type": "markdown",
   "metadata": {},
   "source": [
    "# Funções feitas sob medida"
   ]
  },
  {
   "cell_type": "code",
   "execution_count": 20,
   "metadata": {},
   "outputs": [],
   "source": [
    "import numpy as np\n",
    "import control as ct\n",
    "\n",
    "def obter_espaco_estados(num, den):\n",
    "    # Criar o objeto TransferFunction\n",
    "    tf = control.TransferFunction(num, den)\n",
    "\n",
    "    # Converter para espaço de estados\n",
    "    ss = ct.tf2ss(tf)\n",
    "\n",
    "    return ss\n",
    "\n",
    "def calcular_propriedades(matriz):\n",
    "    # Obter os autovalores e autovetores\n",
    "    autovalores, autovetores = np.linalg.eig(matriz.A)\n",
    "\n",
    "    # Calcular o posto da matriz\n",
    "    posto = np.linalg.matrix_rank(matriz.A)\n",
    "\n",
    "    # print(f'\\n autovalores : \\n {autovalores}')\n",
    "    # print(f'\\n autovetores : \\n {autovetores}')\n",
    "    # print(f'\\n posto : \\n')\n",
    "    # posto\n",
    "\n",
    "    # Retornar as propriedades calculadas\n",
    "    return autovalores, autovetores, posto\n",
    "\n",
    "\n",
    "def calcular_canonicas_autovalores(num, den):\n",
    "    # Criar a matriz A\n",
    "    n = len(den) - 1\n",
    "    A = np.zeros((n, n))\n",
    "    A[:-1, 1:] = np.eye(n - 1)\n",
    "    A[-1, :] = -np.array(den[1:])\n",
    "\n",
    "    # Criar a matriz B\n",
    "    B = np.zeros((n, 1))\n",
    "    B[-1] = 1\n",
    "\n",
    "    # Criar a matriz C\n",
    "    C = np.zeros((1, n))\n",
    "    C[0, :] = np.array(num) - np.array(den[1:]) * np.array(num[-1])\n",
    "\n",
    "    # Criar a matriz D\n",
    "    D = np.array(num[-1])\n",
    "\n",
    "    # Calcular a forma canônica controlável\n",
    "    controlavel_A = np.block([[A, B], [np.zeros((1, n)), 1]])\n",
    "    controlavel_B = np.zeros((n + 1, 1))\n",
    "    controlavel_B[-1] = 1\n",
    "\n",
    "    # Calcular a forma canônica observável\n",
    "    observavel_A = np.block([[A, np.zeros((n, 1))], [C, 1]])\n",
    "    observavel_C = np.zeros((1, n + 1))\n",
    "    observavel_C[0, :-1] = C\n",
    "\n",
    "    # Calcular os autovalores\n",
    "    autovalores_controlavel = np.linalg.eigvals(controlavel_A)\n",
    "    print(autovalores_controlavel)\n",
    "    autovalores_observavel = np.linalg.eigvals(observavel_A)\n",
    "    print(autovalores_observavel)\n",
    "\n",
    "    # Criar o objeto StateSpace\n",
    "    controlavel_ss = control.StateSpace(controlavel_A, controlavel_B, np.eye(n), np.zeros((n, 1)))\n",
    "    print(controlavel_ss)\n",
    "    observavel_ss = control.StateSpace(observavel_A, np.zeros((n, 1)), observavel_C, np.zeros((1, 1)))\n",
    "    print(observavel_ss)\n",
    "\n",
    "    return controlavel_ss, observavel_ss, autovalores_controlavel, autovalores_observavel\n",
    "\n",
    "\n",
    "\n",
    "\n",
    "\n"
   ]
  }
 ],
 "metadata": {
  "kernelspec": {
   "display_name": "Python 3",
   "language": "python",
   "name": "python3"
  },
  "language_info": {
   "codemirror_mode": {
    "name": "ipython",
    "version": 3
   },
   "file_extension": ".py",
   "mimetype": "text/x-python",
   "name": "python",
   "nbconvert_exporter": "python",
   "pygments_lexer": "ipython3",
   "version": "3.10.7"
  },
  "orig_nbformat": 4
 },
 "nbformat": 4,
 "nbformat_minor": 2
}
