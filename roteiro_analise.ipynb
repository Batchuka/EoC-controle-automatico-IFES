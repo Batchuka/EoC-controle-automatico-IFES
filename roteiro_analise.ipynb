{
 "cells": [
  {
   "attachments": {},
   "cell_type": "markdown",
   "metadata": {},
   "source": [
    "# <font color='yellow' style='font-size: 30px;'>ROTEIRO PARA ANÁLISE DE CIRCUITOS</font> <hr style='border: 2px solid yellow;'>"
   ]
  },
  {
   "attachments": {},
   "cell_type": "markdown",
   "metadata": {},
   "source": [
    "### <span style=color:white> Obtendo equações do sistema"
   ]
  },
  {
   "attachments": {},
   "cell_type": "markdown",
   "metadata": {},
   "source": [
    "A obtenção de equações de qualquer sistema passa pelo conhecimento prévio e teórico sobre a física em questão. Teoria de controle, na realidade, se aplica em qualquer engenharia. \n",
    "\n",
    "Como temos um forte interesse em utilizar eletrônica e computação para controle, convém abortar circuitos elétricos para entendimento dessas técnicas, mas aí está um fato curioso: em nenhum momento se espera que um engenheiro de controle e automação projete um circuito elétrico estável — e muito menos um sistema dinâmico estável.\n",
    "\n",
    "#### Circuito RLC em série <hr style='line: 1px solid white;'>\n",
    "\n",
    "<p style=\"text-align:center\">\n",
    "    <img src=\"./imagens/RCL_serie.png\">\n",
    "</p>\n",
    "\n",
    "Deste circuito temos as duas seguintes equações — por Kirchoff de tensões:\n",
    "\n",
    "\\begin{equation}\n",
    "\\begin{cases}\n",
    "L\\frac{di}{dt} + \\frac{R}{L} \\frac{de_o}{dt} + \\frac{1}{C} \\int i \\, dt = e_i  \\\\\n",
    "\\frac{1}{C} \\int i \\, dt = e_o\n",
    "\\end{cases}\n",
    "\\tag{1}\n",
    "\\end{equation}\n",
    "\n",
    "Se levarmos para o domínio da frequência, sabendo que:\n",
    "\n",
    "$ \\boxed {A\\frac{d}{dt} = As}$ \n",
    "\n",
    "$ \\boxed {A \\int i \\, dt = \\frac{1}{As}}$\n",
    "\n",
    "Teremos:\n",
    "\n",
    "\\begin{equation}\n",
    "\\begin{cases}\n",
    "LsI(s) + RI(s) + \\frac{1}{Cs}I(s) = E_i(s)  \\\\\n",
    "\\frac{1}{Cs}I(s)  = E_o(s)\n",
    "\\end{cases}\n",
    "\\tag{2}\n",
    "\\end{equation}\n",
    "\n",
    "Então, a função transferência se torna:\n",
    "\n",
    "\\begin{equation}\n",
    "\\frac{E_o(s)}{E_i(s)} = \\frac{1}{LCs^2 + RCs + 1}\n",
    "\\tag{3}\n",
    "\\end{equation}\n",
    "\n",
    "A função transferência já é um grande negócio. Ela indica como o circuito transfere informação entre a entrada e a saída. Aqui, já poderíamos iniciar uma simulação e verificar se faz sentido com o circuito em questão. \n",
    "\n",
    "Para obter o *'Espaço de Estados'* você precisará identificar a equação diferencial que governa o circuito. Uma maneira de fazer isso é isolar a derivada de maior grau da função transferência (*eq.3*), que é justamente $s^2$.\n",
    "\n",
    "\\begin{equation}\n",
    "E_os^2 + E_o\\frac{R}{Ls} + E_o\\frac{1}{Lc} = E_i\\frac{1}{LC} \\iff \\ddot{e}_o + \\frac{R}{L}\\dot{e}_o + \\frac{1}{LC}e_o = \\frac{1}{LC}e_i\n",
    "\\tag{4}\n",
    "\\end{equation}\n",
    "\n",
    "#### **O que é o 'Espaço de Estados'?**\n",
    "\n",
    "De saída, é uma forma de representar um sistema de ordem $n$ em um set de equações de $1º$ ordem. Só por isso, já temos toda a algebra linear disponível para nos ajudar a encontrar o estado do sistema em qualquer configuração de variáveis. Mas ainda podería dar outros motivos muito bons para tentarmos produzir essa representação matricial:\n",
    "\n",
    "- Existem muitos métodos numéricos para resolver esse tipo de problema;\n",
    "- Existem muitas técnicas de controle baseadas em Espaço de estado — justamente porque existem métodos numéricos poderosos;\n",
    "\n",
    "Então, por exemplo: Filtros Kalman, LQR, Controle Robusto, MPC, etc. São todos métodos de controle baseados em Espaço de Estados. \n",
    "\n",
    "No caso de sistemas contínuos, lineares e invariantes no tempo (LTI) — se o seu sistema não cumprir esses requisitos, nada aqui tem valor para você — podemos dizer que o sistema consiste em 4 matrizes:\n",
    "\n",
    " - A: combinação linear de $\\dot{x}(t)$ e ${x}(t)$, em outras palavras, determina como todos os estados internos estão relacionados;\n",
    " - B: determina como os inputs excitam o sistema, em outras palavras, quais estados internos são afetados pelos inputs;\n",
    " - C: representa como os estados precisam ser combinados para encontrar as saídas desejadas;\n",
    " - D: representa a operação crua ocorrendo em cada input;\n",
    "\n",
    "Multiplicadas adequadamente por vetores 4 vetores:\n",
    "\n",
    " - $\\dot{x}(t)$: vetor que representa a Dinâmica do sistema — determina como os estados vão mudar, portanto;\n",
    " - ${x}(t)$: vetor que representa o Estado do sistema — adequamente conhecido como \"vetor de estados\";\n",
    " - ${u}(t)$:\n",
    " - ${y}(t)$: vetor de saídas do sistema — é não só aquilo que você quer saber, mas manter controlado;"
   ]
  },
  {
   "attachments": {},
   "cell_type": "markdown",
   "metadata": {},
   "source": [
    "### <span style=color:white> Biblioteca 'Controls' para simulação"
   ]
  },
  {
   "attachments": {},
   "cell_type": "markdown",
   "metadata": {},
   "source": [
    "#### <span style=color:lightblue> **import**"
   ]
  },
  {
   "cell_type": "code",
   "execution_count": null,
   "metadata": {},
   "outputs": [],
   "source": [
    "import pandas as pd\n",
    "import numpy as np\n",
    "import scipy as sp\n",
    "import matplotlib as plt\n",
    "import control as ct\n",
    "\n",
    "print('Versão do pandas -> %s' % pd.__version__)\n",
    "print('Versão do numpy -> %s' % np.__version__)\n",
    "print('Versão do scipy -> %s' % sp.__version__)\n",
    "# print('Versão do matplotlib -> %s' % matplotlib.__version__)\n",
    "print('Versão do control -> %s' % ct.__version__)"
   ]
  },
  {
   "attachments": {},
   "cell_type": "markdown",
   "metadata": {},
   "source": [
    "### <span style=color:white> Espaço de estados"
   ]
  },
  {
   "cell_type": "code",
   "execution_count": null,
   "metadata": {},
   "outputs": [],
   "source": [
    "A = [[1, 2], [2, 1]]\n",
    "B = [[1, 2], [2, 1]]\n",
    "C = [[1, 2], [2, 1]]\n",
    "D = [[1, 2], [2, 1]]\n",
    "\n",
    "sys = ct.ss(A, B, C, D,)\n",
    "sys"
   ]
  }
 ],
 "metadata": {
  "language_info": {
   "name": "python"
  },
  "orig_nbformat": 4
 },
 "nbformat": 4,
 "nbformat_minor": 2
}
