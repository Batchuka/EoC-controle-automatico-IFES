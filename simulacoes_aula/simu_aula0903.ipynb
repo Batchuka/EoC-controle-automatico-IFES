{
 "cells": [
  {
   "cell_type": "code",
   "execution_count": 2,
   "metadata": {},
   "outputs": [
    {
     "name": "stdout",
     "output_type": "stream",
     "text": [
      "Tipo do sistema: \n",
      "4 s + 2\n",
      "-------\n",
      "s^2 + s\n",
      "\n",
      "Erro de regime permanente: 0.0\n",
      "Polos do sistema: [-1.  0.]\n"
     ]
    }
   ],
   "source": [
    "import numpy as np\n",
    "from scipy import signal\n",
    "from control import tf, step_response\n",
    "\n",
    "# Definindo os valores das constantes do sistema\n",
    "Kp = 2.0\n",
    "Ti = 1.0\n",
    "k = 1.0\n",
    "tau = 2.0\n",
    "\n",
    "# Criando a função de transferência do sistema\n",
    "num = [Kp*(tau*Ti), Kp]\n",
    "den = [k*Ti, k, 0]\n",
    "sys = tf(num, den)\n",
    "\n",
    "# Calculando o tipo do sistema\n",
    "print('Tipo do sistema:', sys\n",
    "\n",
    "# Calculando o erro de regime permanente\n",
    "ess = Kp / (k * sys.dcgain())\n",
    "print('Erro de regime permanente:', ess)\n",
    "\n",
    "# Calculando os polos do sistema\n",
    "print('Polos do sistema:', np.roots(den))\n",
    "\n",
    "# Calculando a resposta do sistema a uma entrada degrau unitário\n",
    "t, y = step_response(sys)"
   ]
  },
  {
   "attachments": {},
   "cell_type": "markdown",
   "metadata": {},
   "source": [
    "- Nível 1: valores encontrados\n",
    "- entender o que é Tau\n",
    "- os blocos antes do entroncamento é o controlador... o que vem após o entroncamento é um valor instrínseco da planta. \n",
    "- "
   ]
  }
 ],
 "metadata": {
  "kernelspec": {
   "display_name": "Python 3",
   "language": "python",
   "name": "python3"
  },
  "language_info": {
   "codemirror_mode": {
    "name": "ipython",
    "version": 3
   },
   "file_extension": ".py",
   "mimetype": "text/x-python",
   "name": "python",
   "nbconvert_exporter": "python",
   "pygments_lexer": "ipython3",
   "version": "3.10.7"
  },
  "orig_nbformat": 4
 },
 "nbformat": 4,
 "nbformat_minor": 2
}
